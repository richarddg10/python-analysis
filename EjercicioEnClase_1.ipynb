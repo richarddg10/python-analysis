{
 "cells": [
  {
   "cell_type": "markdown",
   "metadata": {},
   "source": [
    "## Tarea 1\n",
    "##### Dataset de salarios (Científicos de datos)\n",
    "\n",
    "https://www.kaggle.com/datasets/iamsouravbanerjee/data-science-salaries-2023\n"
   ]
  },
  {
   "cell_type": "code",
   "execution_count": 213,
   "metadata": {
    "scrolled": true
   },
   "outputs": [
    {
     "data": {
      "text/html": [
       "<div>\n",
       "<style scoped>\n",
       "    .dataframe tbody tr th:only-of-type {\n",
       "        vertical-align: middle;\n",
       "    }\n",
       "\n",
       "    .dataframe tbody tr th {\n",
       "        vertical-align: top;\n",
       "    }\n",
       "\n",
       "    .dataframe thead th {\n",
       "        text-align: right;\n",
       "    }\n",
       "</style>\n",
       "<table border=\"1\" class=\"dataframe\">\n",
       "  <thead>\n",
       "    <tr style=\"text-align: right;\">\n",
       "      <th></th>\n",
       "      <th>Job Title</th>\n",
       "      <th>Employment Type</th>\n",
       "      <th>Experience Level</th>\n",
       "      <th>Expertise Level</th>\n",
       "      <th>Salary</th>\n",
       "      <th>Salary Currency</th>\n",
       "      <th>Company Location</th>\n",
       "      <th>Salary in USD</th>\n",
       "      <th>Employee Residence</th>\n",
       "      <th>Company Size</th>\n",
       "      <th>Year</th>\n",
       "    </tr>\n",
       "  </thead>\n",
       "  <tbody>\n",
       "    <tr>\n",
       "      <th>0</th>\n",
       "      <td>Data Engineer</td>\n",
       "      <td>Full-Time</td>\n",
       "      <td>Senior</td>\n",
       "      <td>Expert</td>\n",
       "      <td>210000</td>\n",
       "      <td>United States Dollar</td>\n",
       "      <td>United States</td>\n",
       "      <td>210000</td>\n",
       "      <td>United States</td>\n",
       "      <td>Medium</td>\n",
       "      <td>2023</td>\n",
       "    </tr>\n",
       "    <tr>\n",
       "      <th>1</th>\n",
       "      <td>Data Engineer</td>\n",
       "      <td>Full-Time</td>\n",
       "      <td>Senior</td>\n",
       "      <td>Expert</td>\n",
       "      <td>165000</td>\n",
       "      <td>United States Dollar</td>\n",
       "      <td>United States</td>\n",
       "      <td>165000</td>\n",
       "      <td>United States</td>\n",
       "      <td>Medium</td>\n",
       "      <td>2023</td>\n",
       "    </tr>\n",
       "    <tr>\n",
       "      <th>2</th>\n",
       "      <td>Data Engineer</td>\n",
       "      <td>Full-Time</td>\n",
       "      <td>Senior</td>\n",
       "      <td>Expert</td>\n",
       "      <td>185900</td>\n",
       "      <td>United States Dollar</td>\n",
       "      <td>United States</td>\n",
       "      <td>185900</td>\n",
       "      <td>United States</td>\n",
       "      <td>Medium</td>\n",
       "      <td>2023</td>\n",
       "    </tr>\n",
       "    <tr>\n",
       "      <th>3</th>\n",
       "      <td>Data Engineer</td>\n",
       "      <td>Full-Time</td>\n",
       "      <td>Senior</td>\n",
       "      <td>Expert</td>\n",
       "      <td>129300</td>\n",
       "      <td>United States Dollar</td>\n",
       "      <td>United States</td>\n",
       "      <td>129300</td>\n",
       "      <td>United States</td>\n",
       "      <td>Medium</td>\n",
       "      <td>2023</td>\n",
       "    </tr>\n",
       "    <tr>\n",
       "      <th>4</th>\n",
       "      <td>Data Scientist</td>\n",
       "      <td>Full-Time</td>\n",
       "      <td>Senior</td>\n",
       "      <td>Expert</td>\n",
       "      <td>140000</td>\n",
       "      <td>United States Dollar</td>\n",
       "      <td>United States</td>\n",
       "      <td>140000</td>\n",
       "      <td>United States</td>\n",
       "      <td>Medium</td>\n",
       "      <td>2023</td>\n",
       "    </tr>\n",
       "    <tr>\n",
       "      <th>5</th>\n",
       "      <td>Data Scientist</td>\n",
       "      <td>Full-Time</td>\n",
       "      <td>Senior</td>\n",
       "      <td>Expert</td>\n",
       "      <td>126000</td>\n",
       "      <td>United States Dollar</td>\n",
       "      <td>United States</td>\n",
       "      <td>126000</td>\n",
       "      <td>United States</td>\n",
       "      <td>Medium</td>\n",
       "      <td>2023</td>\n",
       "    </tr>\n",
       "    <tr>\n",
       "      <th>6</th>\n",
       "      <td>Data Scientist</td>\n",
       "      <td>Full-Time</td>\n",
       "      <td>Senior</td>\n",
       "      <td>Expert</td>\n",
       "      <td>170000</td>\n",
       "      <td>United States Dollar</td>\n",
       "      <td>United States</td>\n",
       "      <td>170000</td>\n",
       "      <td>United States</td>\n",
       "      <td>Medium</td>\n",
       "      <td>2023</td>\n",
       "    </tr>\n",
       "    <tr>\n",
       "      <th>7</th>\n",
       "      <td>Data Scientist</td>\n",
       "      <td>Full-Time</td>\n",
       "      <td>Senior</td>\n",
       "      <td>Expert</td>\n",
       "      <td>130000</td>\n",
       "      <td>United States Dollar</td>\n",
       "      <td>United States</td>\n",
       "      <td>130000</td>\n",
       "      <td>United States</td>\n",
       "      <td>Medium</td>\n",
       "      <td>2023</td>\n",
       "    </tr>\n",
       "    <tr>\n",
       "      <th>8</th>\n",
       "      <td>Data Engineer</td>\n",
       "      <td>Full-Time</td>\n",
       "      <td>Mid</td>\n",
       "      <td>Intermediate</td>\n",
       "      <td>85000</td>\n",
       "      <td>British Pound Sterling</td>\n",
       "      <td>United Kingdom</td>\n",
       "      <td>104584</td>\n",
       "      <td>United Kingdom</td>\n",
       "      <td>Medium</td>\n",
       "      <td>2023</td>\n",
       "    </tr>\n",
       "    <tr>\n",
       "      <th>9</th>\n",
       "      <td>Data Engineer</td>\n",
       "      <td>Full-Time</td>\n",
       "      <td>Mid</td>\n",
       "      <td>Intermediate</td>\n",
       "      <td>75000</td>\n",
       "      <td>British Pound Sterling</td>\n",
       "      <td>United Kingdom</td>\n",
       "      <td>92280</td>\n",
       "      <td>United Kingdom</td>\n",
       "      <td>Medium</td>\n",
       "      <td>2023</td>\n",
       "    </tr>\n",
       "  </tbody>\n",
       "</table>\n",
       "</div>"
      ],
      "text/plain": [
       "        Job Title Employment Type Experience Level Expertise Level  Salary  \\\n",
       "0   Data Engineer       Full-Time           Senior          Expert  210000   \n",
       "1   Data Engineer       Full-Time           Senior          Expert  165000   \n",
       "2   Data Engineer       Full-Time           Senior          Expert  185900   \n",
       "3   Data Engineer       Full-Time           Senior          Expert  129300   \n",
       "4  Data Scientist       Full-Time           Senior          Expert  140000   \n",
       "5  Data Scientist       Full-Time           Senior          Expert  126000   \n",
       "6  Data Scientist       Full-Time           Senior          Expert  170000   \n",
       "7  Data Scientist       Full-Time           Senior          Expert  130000   \n",
       "8   Data Engineer       Full-Time              Mid    Intermediate   85000   \n",
       "9   Data Engineer       Full-Time              Mid    Intermediate   75000   \n",
       "\n",
       "          Salary Currency Company Location  Salary in USD Employee Residence  \\\n",
       "0    United States Dollar    United States         210000      United States   \n",
       "1    United States Dollar    United States         165000      United States   \n",
       "2    United States Dollar    United States         185900      United States   \n",
       "3    United States Dollar    United States         129300      United States   \n",
       "4    United States Dollar    United States         140000      United States   \n",
       "5    United States Dollar    United States         126000      United States   \n",
       "6    United States Dollar    United States         170000      United States   \n",
       "7    United States Dollar    United States         130000      United States   \n",
       "8  British Pound Sterling   United Kingdom         104584     United Kingdom   \n",
       "9  British Pound Sterling   United Kingdom          92280     United Kingdom   \n",
       "\n",
       "  Company Size  Year  \n",
       "0       Medium  2023  \n",
       "1       Medium  2023  \n",
       "2       Medium  2023  \n",
       "3       Medium  2023  \n",
       "4       Medium  2023  \n",
       "5       Medium  2023  \n",
       "6       Medium  2023  \n",
       "7       Medium  2023  \n",
       "8       Medium  2023  \n",
       "9       Medium  2023  "
      ]
     },
     "execution_count": 213,
     "metadata": {},
     "output_type": "execute_result"
    }
   ],
   "source": [
    "import pandas as pd\n",
    "import matplotlib.pyplot as plt\n",
    "\n",
    "df = pd.read_csv(\"Latest_Data_Science_Salaries.csv\")\n",
    "df.head(10)"
   ]
  },
  {
   "cell_type": "markdown",
   "metadata": {},
   "source": [
    "# Ejercicio en Clase:\n",
    "\n",
    "Para este ejercicio debes realizar los siguientes pasos de manera anticipada los siguientes procesos:\n",
    "- Cargar el conjunto de datos desde un archivo CSV utilizando pandas.\n",
    "- Explorar y familiarizarse con la estructura del conjunto de datos.\n",
    "- Calcular estadísticas descriptivas, como el promedio, la mediana y la desviación estándar, de variables relevantes del conjunto de datos general.\n",
    "\n",
    "#### Acciones por ejecutar\n",
    "\n",
    "1. ¿Cúantos posibles \"Job Title\" existen en el Dataset?\n",
    "2. ¿Cúales son los \"Employment Type\" y en qué frecuencia se presentan en el Dataset?\n",
    "3. ¿Cuáles son los \"Expertise Level\" y \"Experience Level\" y cuál es el salario promedio general de cada uno?\n",
    "4. ¿Cuáles son los \"Salary Currency\" y a qué tasa está covertido respecto al dolar cada uno?\n",
    "5. ¿En cuántos paises diferentes se encuentran los empleados (\"Employee Residence\")?\n",
    "6. ¿Cuál salario promedio por \"Job Title\" agrupado?\n",
    "7. ¿Cuál es el salario promedio por país de residencia (Employee Residence)?\n",
    "8. ¿Cuál es el \"Salary in USD\" máximo y mínimo?¿A qué registro pertenece?\n",
    "9. ¿Cuál es el salario promedio (en USD) por rol por tamaño de compañía?\n",
    "10. muestre los datos agrupados por tamaño de la compañía, país y salario promedio."
   ]
  },
  {
   "cell_type": "markdown",
   "metadata": {},
   "source": []
  },
  {
   "cell_type": "markdown",
   "metadata": {},
   "source": [
    "### Propuesta de solución\n"
   ]
  },
  {
   "cell_type": "markdown",
   "metadata": {},
   "source": [
    "1. ¿Cúantos posibles \"Job Title\" existen en el Dataset?"
   ]
  },
  {
   "cell_type": "code",
   "execution_count": 214,
   "metadata": {},
   "outputs": [
    {
     "name": "stdout",
     "output_type": "stream",
     "text": [
      "Número de posibles títulos de trabajo: 111\n",
      "Títulos de trabajo únicos:\n",
      "Data Engineer\n",
      "Data Scientist\n",
      "Analytics Engineer\n",
      "Business Intelligence Developer\n",
      "Machine Learning Engineer\n",
      "Data Analyst\n",
      "Decision Scientist\n",
      "Machine Learning Software Engineer\n",
      "BI Developer\n",
      "Machine Learning Scientist\n",
      "BI Analyst\n",
      "Data Manager\n",
      "Business Intelligence Engineer\n",
      "ML Engineer\n",
      "Data Science Manager\n",
      "AI Programmer\n",
      "Applied Scientist\n",
      "Data Analytics Manager\n",
      "Research Engineer\n",
      "Research Scientist\n",
      "Data Lead\n",
      "Data Strategist\n",
      "Data Quality Analyst\n",
      "Data Architect\n",
      "AI Architect\n",
      "Computer Vision Engineer\n",
      "Business Intelligence Analyst\n",
      "Principal Data Scientist\n",
      "Staff Machine Learning Engineer\n",
      "Staff Data Scientist\n",
      "Consultant Data Engineer\n",
      "Machine Learning Specialist\n",
      "Head of Data\n",
      "Data Quality Engineer\n",
      "Research Analyst\n",
      "Principal Machine Learning Engineer\n",
      "Deep Learning Engineer\n",
      "Data Visualization Specialist\n",
      "MLOps Engineer\n",
      "Business Intelligence Data Analyst\n",
      "Data Science Engineer\n",
      "Data Operations Manager\n",
      "Data Specialist\n",
      "Head of Data Science\n",
      "Lead Machine Learning Engineer\n",
      "AI Scientist\n",
      "Managing Director Data Science\n",
      "Data Modeller\n",
      "Finance Data Analyst\n",
      "Software Data Engineer\n",
      "Machine Learning Research Engineer\n",
      "Compliance Data Analyst\n",
      "Data Operations Specialist\n",
      "Business Data Analyst\n",
      "Data Engineer 2\n",
      "Data Science Consultant\n",
      "Cloud Data Engineer\n",
      "Analytics Engineering Manager\n",
      "Machine Learning Infrastructure Engineer\n",
      "Director of Data Science\n",
      "Insight Analyst\n",
      "ETL Developer\n",
      "NLP Engineer\n",
      "Data Operations Engineer\n",
      "Staff Data Analyst\n",
      "Applied Machine Learning Scientist\n",
      "AWS Data Architect\n",
      "Product Data Analyst\n",
      "BI Data Analyst\n",
      "Machine Learning Developer\n",
      "Data Integration Specialist\n",
      "Data Visualization Analyst\n",
      "Autonomous Vehicle Technician\n",
      "Data Modeler\n",
      "Sales Data Analyst\n",
      "Data Operations Analyst\n",
      "Data Science Lead\n",
      "Applied Machine Learning Engineer\n",
      "Applied Data Scientist\n",
      "ETL Engineer\n",
      "Data DevOps Engineer\n",
      "AI Developer\n",
      "Machine Learning Researcher\n",
      "Big Data Engineer\n",
      "Lead Data Analyst\n",
      "BI Data Engineer\n",
      "Lead Data Scientist\n",
      "Cloud Database Engineer\n",
      "Financial Data Analyst\n",
      "Data Infrastructure Engineer\n",
      "Deep Learning Researcher\n",
      "Data Analytics Specialist\n",
      "Big Data Architect\n",
      "Computer Vision Software Engineer\n",
      "Azure Data Engineer\n",
      "Marketing Data Engineer\n",
      "Data Analytics Lead\n",
      "Manager Data Management\n",
      "Data Analytics Consultant\n",
      "Data Management Specialist\n",
      "Data Science Tech Lead\n",
      "Data Scientist Lead\n",
      "Marketing Data Analyst\n",
      "Principal Data Architect\n",
      "Machine Learning Manager\n",
      "Data Analytics Engineer\n",
      "Cloud Data Architect\n",
      "Lead Data Engineer\n",
      "Head of Machine Learning\n",
      "Principal Data Analyst\n",
      "Principal Data Engineer\n"
     ]
    }
   ],
   "source": [
    "# import pandas as pd\n",
    "# import matplotlib.pyplot as plt\n",
    "\n",
    "# df = pd.read_csv(\"Latest_Data_Science_Salaries.csv\")\n",
    "\n",
    "df_job_title = df[\"Job Title\"].unique()\n",
    "\n",
    "num_job_titles = len(df_job_title)\n",
    "\n",
    "print(\"Número de posibles títulos de trabajo:\", num_job_titles)\n",
    "print(\"Títulos de trabajo únicos:\")\n",
    "for title in df_job_title:\n",
    "    print(title)\n"
   ]
  },
  {
   "cell_type": "markdown",
   "metadata": {},
   "source": [
    "2. ¿Cúales son los \"Employment Type\" y en qué frecuencia se presentan en el Dataset?"
   ]
  },
  {
   "cell_type": "code",
   "execution_count": 215,
   "metadata": {},
   "outputs": [
    {
     "name": "stdout",
     "output_type": "stream",
     "text": [
      "['Full-Time' 'Contract' 'Part-Time' 'Freelance']\n",
      "Frecuencia: Employment Type\n",
      "Full-Time    3261\n",
      "Contract       15\n",
      "Part-Time      13\n",
      "Freelance      11\n",
      "Name: count, dtype: int64\n"
     ]
    }
   ],
   "source": [
    "df_employment_type = df[\"Employment Type\"].unique()\n",
    "\n",
    "frequency_employment_type = df[\"Employment Type\"].value_counts()\n",
    "\n",
    "print(df_employment_type)\n",
    "print(\"Frecuencia:\", frequency_employment_type)"
   ]
  },
  {
   "cell_type": "markdown",
   "metadata": {},
   "source": [
    "3. ¿Cuáles son los \"Expertise Level\" y \"Experience Level\" y cuál es el salario promedio general de cada uno?"
   ]
  },
  {
   "cell_type": "code",
   "execution_count": 216,
   "metadata": {},
   "outputs": [
    {
     "name": "stdout",
     "output_type": "stream",
     "text": [
      "Expertise Level  Experience Level\n",
      "Director         Executive           237493.006849\n",
      "Expert           Senior              181572.525908\n",
      "Intermediate     Mid                 259106.441656\n",
      "Junior           Entry               202933.167808\n",
      "Name: Salary, dtype: float64\n"
     ]
    }
   ],
   "source": [
    "levels_group = df.groupby(['Expertise Level', 'Experience Level'])['Salary'].mean()\n",
    "\n",
    "print(levels_group)"
   ]
  },
  {
   "cell_type": "markdown",
   "metadata": {},
   "source": [
    "4. ¿Cuáles son los \"Salary Currency\" y a qué tasa está covertido respecto al dolar cada uno?"
   ]
  },
  {
   "cell_type": "code",
   "execution_count": 217,
   "metadata": {},
   "outputs": [
    {
     "name": "stdout",
     "output_type": "stream",
     "text": [
      "['United States Dollar' 'British Pound Sterling' 'Euro' 'Indian Rupee'\n",
      " 'Philippine Peso' 'Canadian Dollar' 'Turkish Lira' 'Brazilian Real'\n",
      " 'Swiss Franc' 'Australian Dollar' 'Polish Zloty' 'Norwegian Krone'\n",
      " 'Japanese Yen' 'South African Rand' 'Hong Kong Dollar' 'Singapore Dollar'\n",
      " 'Israeli New Shekel' 'Thai Baht' 'Hungarian Forint' 'Danish Krone'\n",
      " 'Mexican Peso' 'Chilean Peso']\n"
     ]
    }
   ],
   "source": [
    "salary_group = df[\"Salary Currency\"].unique()\n",
    "\n",
    "print(salary_group)"
   ]
  },
  {
   "cell_type": "markdown",
   "metadata": {},
   "source": [
    "5. ¿En cuántos paises diferentes se encuentran los empleados (\"Employee Residence\")?"
   ]
  },
  {
   "cell_type": "code",
   "execution_count": 218,
   "metadata": {},
   "outputs": [
    {
     "name": "stdout",
     "output_type": "stream",
     "text": [
      "Número de países de residencia de los empleados: 83\n"
     ]
    }
   ],
   "source": [
    "country_residence = df[\"Employee Residence\"].nunique()\n",
    "\n",
    "print(\"Número de países de residencia de los empleados:\", country_residence)"
   ]
  },
  {
   "cell_type": "markdown",
   "metadata": {},
   "source": [
    "6. ¿Cuál es el salario promedio por \"Job Title\" agrupado?"
   ]
  },
  {
   "cell_type": "code",
   "execution_count": 219,
   "metadata": {},
   "outputs": [
    {
     "name": "stdout",
     "output_type": "stream",
     "text": [
      "Salario promedio de cada Job: Job Title\n",
      "AI Architect                       233500.000000\n",
      "AI Developer                       133666.666667\n",
      "AI Programmer                       62500.000000\n",
      "AI Scientist                       263444.444444\n",
      "AWS Data Architect                 258000.000000\n",
      "                                       ...      \n",
      "Sales Data Analyst                  60000.000000\n",
      "Software Data Engineer             120000.000000\n",
      "Staff Data Analyst                  97499.000000\n",
      "Staff Data Scientist               134500.000000\n",
      "Staff Machine Learning Engineer    185000.000000\n",
      "Name: Salary, Length: 111, dtype: float64\n"
     ]
    }
   ],
   "source": [
    "jobs_list = df.groupby(\"Job Title\")[\"Salary\"].mean()\n",
    "print(\"Salario promedio de cada Job:\", jobs_list)"
   ]
  },
  {
   "cell_type": "markdown",
   "metadata": {},
   "source": [
    "7. ¿Cuál es el salario promedio por país de residencia (Employee Residence)?"
   ]
  },
  {
   "cell_type": "code",
   "execution_count": 220,
   "metadata": {},
   "outputs": [
    {
     "name": "stdout",
     "output_type": "stream",
     "text": [
      "Salario promedio por país de residencia: Employee Residence\n",
      "Algeria                 100000.000000\n",
      "American Samoa           45555.000000\n",
      "Andorra                  47000.000000\n",
      "Argentina                56444.444444\n",
      "Armenia                  50000.000000\n",
      "                            ...      \n",
      "United Arab Emirates    100000.000000\n",
      "United Kingdom           96596.857143\n",
      "United States           159794.726050\n",
      "Uzbekistan               82000.000000\n",
      "Viet Nam                 44200.000000\n",
      "Name: Salary, Length: 83, dtype: float64\n"
     ]
    }
   ],
   "source": [
    "residence_salary = df.groupby(\"Employee Residence\")[\"Salary\"].mean()\n",
    "\n",
    "print(\"Salario promedio por país de residencia:\", residence_salary)"
   ]
  },
  {
   "cell_type": "markdown",
   "metadata": {},
   "source": [
    "8. ¿Cuál es el \"Salary in USD\" máximo y mínimo?¿A qué registro pertenece?"
   ]
  },
  {
   "cell_type": "code",
   "execution_count": 221,
   "metadata": {},
   "outputs": [
    {
     "name": "stdout",
     "output_type": "stream",
     "text": [
      "Salario max en USD: 450000\n",
      "Salario min en USD: 15000\n"
     ]
    }
   ],
   "source": [
    "max_salary_USD = df[\"Salary in USD\"].max()\n",
    "\n",
    "print(\"Salario max en USD:\", max_salary_USD)\n",
    "\n",
    "min_salary_USD = df[\"Salary in USD\"].min()\n",
    "\n",
    "print(\"Salario min en USD:\", min_salary_USD)"
   ]
  },
  {
   "cell_type": "markdown",
   "metadata": {},
   "source": [
    "9. ¿Cuál es el salario promedio (en USD) por rol por tamaño de compañía?"
   ]
  },
  {
   "cell_type": "code",
   "execution_count": 222,
   "metadata": {},
   "outputs": [
    {
     "name": "stdout",
     "output_type": "stream",
     "text": [
      "Job Title                        Company Size\n",
      "AI Architect                     Large           207968.0\n",
      "                                 Medium          267000.0\n",
      "AI Developer                     Large           215936.0\n",
      "                                 Medium           97944.0\n",
      "                                 Small           197500.0\n",
      "                                                   ...   \n",
      "Software Data Engineer           Medium           50000.0\n",
      "Staff Data Analyst               Medium           15000.0\n",
      "                                 Small           179998.0\n",
      "Staff Data Scientist             Medium          134500.0\n",
      "Staff Machine Learning Engineer  Medium          185000.0\n",
      "Name: Salary in USD, Length: 204, dtype: float64\n"
     ]
    }
   ],
   "source": [
    "rol_salary_USD = df.groupby([\"Job Title\", \"Company Size\"])[\"Salary in USD\"].mean()\n",
    "\n",
    "print(rol_salary_USD)"
   ]
  },
  {
   "cell_type": "markdown",
   "metadata": {},
   "source": [
    "10. muestre los datos agrupados por tamaño de la compañía, país y salario promedio."
   ]
  },
  {
   "cell_type": "code",
   "execution_count": 223,
   "metadata": {},
   "outputs": [
    {
     "name": "stdout",
     "output_type": "stream",
     "text": [
      "Company Size  Employee Residence             \n",
      "Large         Argentina                           55000.000000\n",
      "              Australia                          110857.142857\n",
      "              Austria                             69666.666667\n",
      "              Belgium                            140000.000000\n",
      "              Bolivia, Plurinational State of     75000.000000\n",
      "                                                     ...      \n",
      "Small         Turkey                              60000.000000\n",
      "              Ukraine                             50000.000000\n",
      "              United Arab Emirates                92500.000000\n",
      "              United Kingdom                      88333.333333\n",
      "              United States                      123942.325581\n",
      "Name: Salary, Length: 149, dtype: float64\n"
     ]
    }
   ],
   "source": [
    "data_group = df.groupby([\"Company Size\", \"Employee Residence\"])[\"Salary\"].mean()\n",
    "\n",
    "print(data_group)"
   ]
  }
 ],
 "metadata": {
  "kernelspec": {
   "display_name": "Python 3.12.2 64-bit",
   "language": "python",
   "name": "python3"
  },
  "language_info": {
   "codemirror_mode": {
    "name": "ipython",
    "version": 3
   },
   "file_extension": ".py",
   "mimetype": "text/x-python",
   "name": "python",
   "nbconvert_exporter": "python",
   "pygments_lexer": "ipython3",
   "version": "3.12.2"
  },
  "vscode": {
   "interpreter": {
    "hash": "aee8b7b246df8f9039afb4144a1f6fd8d2ca17a180786b69acc140d282b71a49"
   }
  }
 },
 "nbformat": 4,
 "nbformat_minor": 4
}
